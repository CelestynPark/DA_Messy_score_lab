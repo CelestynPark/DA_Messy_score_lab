{
 "cells": [
  {
   "cell_type": "code",
   "execution_count": 1,
   "id": "c2dea9fd",
   "metadata": {},
   "outputs": [],
   "source": [
    "import sys\n",
    "import os\n",
    "import pandas as pd\n",
    "\n",
    "ROOT_DIR = os.path.abspath(os.path.join('..'))\n",
    "DATA_RAW_PATH = os.path.join(ROOT_DIR, 'raw', 'messy_student_scores_500.csv')\n",
    "DATA_PROCESSED_PATH = os.path.join(ROOT_DIR, 'data', 'processed', 'cleaned_exam_data.csv')\n",
    "\n",
    "sys.path.append(os.path.join(ROOT_DIR, 'src'))\n",
    "from date_utils import enrich_exam_date_column"
   ]
  },
  {
   "cell_type": "code",
   "execution_count": 2,
   "id": "f26e6c99",
   "metadata": {},
   "outputs": [
    {
     "name": "stdout",
     "output_type": "stream",
     "text": [
      "원본 데이터 크기: (500, 6)\n"
     ]
    },
    {
     "data": {
      "text/html": [
       "<div>\n",
       "<style scoped>\n",
       "    .dataframe tbody tr th:only-of-type {\n",
       "        vertical-align: middle;\n",
       "    }\n",
       "\n",
       "    .dataframe tbody tr th {\n",
       "        vertical-align: top;\n",
       "    }\n",
       "\n",
       "    .dataframe thead th {\n",
       "        text-align: right;\n",
       "    }\n",
       "</style>\n",
       "<table border=\"1\" class=\"dataframe\">\n",
       "  <thead>\n",
       "    <tr style=\"text-align: right;\">\n",
       "      <th></th>\n",
       "      <th>이름</th>\n",
       "      <th>나이</th>\n",
       "      <th>성별</th>\n",
       "      <th>점수</th>\n",
       "      <th>시험일</th>\n",
       "      <th>비고</th>\n",
       "    </tr>\n",
       "  </thead>\n",
       "  <tbody>\n",
       "    <tr>\n",
       "      <th>0</th>\n",
       "      <td>NaN</td>\n",
       "      <td>0x1d</td>\n",
       "      <td>남</td>\n",
       "      <td>NaN</td>\n",
       "      <td>19.09.1979</td>\n",
       "      <td>NaN</td>\n",
       "    </tr>\n",
       "    <tr>\n",
       "      <th>1</th>\n",
       "      <td>서정남</td>\n",
       "      <td>twenty</td>\n",
       "      <td>male</td>\n",
       "      <td>59점</td>\n",
       "      <td>NaN</td>\n",
       "      <td>NaN</td>\n",
       "    </tr>\n",
       "    <tr>\n",
       "      <th>2</th>\n",
       "      <td>김영자</td>\n",
       "      <td>NaN</td>\n",
       "      <td>male</td>\n",
       "      <td>ninety-five</td>\n",
       "      <td>NaN</td>\n",
       "      <td>.</td>\n",
       "    </tr>\n",
       "    <tr>\n",
       "      <th>3</th>\n",
       "      <td>NaN</td>\n",
       "      <td>10세</td>\n",
       "      <td>male</td>\n",
       "      <td>none</td>\n",
       "      <td>10-06-1980</td>\n",
       "      <td>retake</td>\n",
       "    </tr>\n",
       "    <tr>\n",
       "      <th>4</th>\n",
       "      <td>김재호</td>\n",
       "      <td>NaN</td>\n",
       "      <td>m</td>\n",
       "      <td>90점</td>\n",
       "      <td>1979년 05월 16일</td>\n",
       "      <td>없음</td>\n",
       "    </tr>\n",
       "  </tbody>\n",
       "</table>\n",
       "</div>"
      ],
      "text/plain": [
       "    이름      나이    성별           점수            시험일      비고\n",
       "0  NaN    0x1d     남          NaN     19.09.1979     NaN\n",
       "1  서정남  twenty  male          59점            NaN     NaN\n",
       "2  김영자     NaN  male  ninety-five            NaN       .\n",
       "3  NaN     10세  male         none     10-06-1980  retake\n",
       "4  김재호     NaN     m          90점  1979년 05월 16일      없음"
      ]
     },
     "execution_count": 2,
     "metadata": {},
     "output_type": "execute_result"
    }
   ],
   "source": [
    "df = pd.read_csv(DATA_RAW_PATH)\n",
    "print(f\"원본 데이터 크기: {df.shape}\")\n",
    "df.head()"
   ]
  },
  {
   "cell_type": "code",
   "execution_count": 4,
   "id": "e9771f76",
   "metadata": {},
   "outputs": [
    {
     "data": {
      "text/html": [
       "<div>\n",
       "<style scoped>\n",
       "    .dataframe tbody tr th:only-of-type {\n",
       "        vertical-align: middle;\n",
       "    }\n",
       "\n",
       "    .dataframe tbody tr th {\n",
       "        vertical-align: top;\n",
       "    }\n",
       "\n",
       "    .dataframe thead th {\n",
       "        text-align: right;\n",
       "    }\n",
       "</style>\n",
       "<table border=\"1\" class=\"dataframe\">\n",
       "  <thead>\n",
       "    <tr style=\"text-align: right;\">\n",
       "      <th></th>\n",
       "      <th>시험일</th>\n",
       "      <th>시험일_정제</th>\n",
       "      <th>요일</th>\n",
       "      <th>응시_주차</th>\n",
       "      <th>응시_월</th>\n",
       "      <th>주말여부</th>\n",
       "    </tr>\n",
       "  </thead>\n",
       "  <tbody>\n",
       "    <tr>\n",
       "      <th>482</th>\n",
       "      <td>Dec/29/1989</td>\n",
       "      <td>1989-12-29</td>\n",
       "      <td>Friday</td>\n",
       "      <td>52</td>\n",
       "      <td>12.0</td>\n",
       "      <td>False</td>\n",
       "    </tr>\n",
       "    <tr>\n",
       "      <th>432</th>\n",
       "      <td>1990/05/04</td>\n",
       "      <td>1990-05-04</td>\n",
       "      <td>Friday</td>\n",
       "      <td>18</td>\n",
       "      <td>5.0</td>\n",
       "      <td>False</td>\n",
       "    </tr>\n",
       "    <tr>\n",
       "      <th>256</th>\n",
       "      <td>18.06.2003</td>\n",
       "      <td>2003-06-18</td>\n",
       "      <td>Wednesday</td>\n",
       "      <td>25</td>\n",
       "      <td>6.0</td>\n",
       "      <td>False</td>\n",
       "    </tr>\n",
       "    <tr>\n",
       "      <th>7</th>\n",
       "      <td>Oct/25/1987</td>\n",
       "      <td>1987-10-25</td>\n",
       "      <td>Sunday</td>\n",
       "      <td>43</td>\n",
       "      <td>10.0</td>\n",
       "      <td>True</td>\n",
       "    </tr>\n",
       "    <tr>\n",
       "      <th>218</th>\n",
       "      <td>NaN</td>\n",
       "      <td>NaT</td>\n",
       "      <td>NaN</td>\n",
       "      <td>&lt;NA&gt;</td>\n",
       "      <td>NaN</td>\n",
       "      <td>False</td>\n",
       "    </tr>\n",
       "  </tbody>\n",
       "</table>\n",
       "</div>"
      ],
      "text/plain": [
       "             시험일     시험일_정제         요일  응시_주차  응시_월   주말여부\n",
       "482  Dec/29/1989 1989-12-29     Friday     52  12.0  False\n",
       "432   1990/05/04 1990-05-04     Friday     18   5.0  False\n",
       "256   18.06.2003 2003-06-18  Wednesday     25   6.0  False\n",
       "7    Oct/25/1987 1987-10-25     Sunday     43  10.0   True\n",
       "218          NaN        NaT        NaN   <NA>   NaN  False"
      ]
     },
     "execution_count": 4,
     "metadata": {},
     "output_type": "execute_result"
    }
   ],
   "source": [
    "df = enrich_exam_date_column(df)\n",
    "\n",
    "df[['시험일', '시험일_정제', '요일', '응시_주차', '응시_월', '주말여부']].sample(5)"
   ]
  },
  {
   "cell_type": "code",
   "execution_count": 6,
   "id": "7a075e7a",
   "metadata": {},
   "outputs": [
    {
     "name": "stdout",
     "output_type": "stream",
     "text": [
      "날짜 정제 실패 (NaT): 127\n",
      "요일 분포: \n",
      "요일\n",
      "Monday       61\n",
      "Saturday     58\n",
      "Friday       55\n",
      "Sunday       55\n",
      "Wednesday    49\n",
      "Thursday     48\n",
      "Tuesday      47\n",
      "Name: count, dtype: int64\n"
     ]
    }
   ],
   "source": [
    "print('날짜 정제 실패 (NaT):', df['시험일_정제'].isna().sum())\n",
    "\n",
    "print('요일 분포: ')\n",
    "print(df['요일'].value_counts())"
   ]
  },
  {
   "cell_type": "code",
   "execution_count": 8,
   "id": "314df5b2",
   "metadata": {},
   "outputs": [
    {
     "name": "stdout",
     "output_type": "stream",
     "text": [
      "정제된 데이터 저장 완료: c:\\Users\\sbeep\\Desktop\\DataAnalysis\\MIni_Projects\\Messy_Score_Lab\\data\\processed\\cleaned_exam_data.csv\n"
     ]
    }
   ],
   "source": [
    "os.makedirs(os.path.join(ROOT_DIR, 'data', 'processed'), exist_ok=True)\n",
    "\n",
    "df.to_csv(DATA_PROCESSED_PATH, index=False)\n",
    "print(f\"정제된 데이터 저장 완료: {DATA_PROCESSED_PATH}\")"
   ]
  },
  {
   "cell_type": "code",
   "execution_count": null,
   "id": "ad2a88d1",
   "metadata": {},
   "outputs": [],
   "source": []
  }
 ],
 "metadata": {
  "kernelspec": {
   "display_name": "da-messy-score-lab",
   "language": "python",
   "name": "python3"
  },
  "language_info": {
   "codemirror_mode": {
    "name": "ipython",
    "version": 3
   },
   "file_extension": ".py",
   "mimetype": "text/x-python",
   "name": "python",
   "nbconvert_exporter": "python",
   "pygments_lexer": "ipython3",
   "version": "3.11.13"
  }
 },
 "nbformat": 4,
 "nbformat_minor": 5
}
