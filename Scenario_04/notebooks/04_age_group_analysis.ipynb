{
 "cells": [
  {
   "cell_type": "markdown",
   "id": "19cc6a6d",
   "metadata": {},
   "source": [
    "# 04. 나이 구간별 점수 분석"
   ]
  },
  {
   "cell_type": "markdown",
   "id": "333d48af",
   "metadata": {},
   "source": [
    "### 데이터 로딩 및 필터링"
   ]
  },
  {
   "cell_type": "code",
   "execution_count": 10,
   "id": "8bdb34aa",
   "metadata": {},
   "outputs": [
    {
     "data": {
      "text/plain": [
       "(106, 10)"
      ]
     },
     "execution_count": 10,
     "metadata": {},
     "output_type": "execute_result"
    }
   ],
   "source": [
    "import pandas as pd\n",
    "import seaborn as sns\n",
    "import matplotlib.pyplot as plt\n",
    "from pathlib import Path\n",
    "\n",
    "DATA_PATH = Path(\"../data/processed/cleaned_student_scores.csv\")\n",
    "\n",
    "df = pd.read_csv(DATA_PATH)\n",
    "df = df.dropna(subset=['정제된_나이', '정제된_점수']).copy()\n",
    "df.shape"
   ]
  },
  {
   "cell_type": "markdown",
   "id": "e0a26570",
   "metadata": {},
   "source": [
    "### 나이 구간 생성\n",
    "\n",
    "`pd.cut()`을 활용하여 연속형 나이를 구간형 변수로 나눈다.\n",
    "\n",
    "→ 새로운 컬럼: `나이구간`"
   ]
  },
  {
   "cell_type": "code",
   "execution_count": 11,
   "id": "fb93dba5",
   "metadata": {},
   "outputs": [
    {
     "data": {
      "text/plain": [
       "나이구간\n",
       "10대 중반 이하    10\n",
       "10대 후반       41\n",
       "20대 초반       44\n",
       "20대 후반        7\n",
       "30대 이상        4\n",
       "Name: count, dtype: int64"
      ]
     },
     "execution_count": 11,
     "metadata": {},
     "output_type": "execute_result"
    }
   ],
   "source": [
    "bins = [10, 15, 20, 25, 30, 100]\n",
    "labels = ['10대 중반 이하','10대 후반', '20대 초반', '20대 후반', '30대 이상']\n",
    "\n",
    "df['나이구간'] = pd.cut(df['정제된_나이'], bins=bins, labels=labels, right=False)\n",
    "df['나이구간'].value_counts().sort_index()"
   ]
  },
  {
   "cell_type": "markdown",
   "id": "bd3b6308",
   "metadata": {},
   "source": [
    "### 구간별 평균 점수 계산\n"
   ]
  },
  {
   "cell_type": "code",
   "execution_count": 12,
   "id": "d9552174",
   "metadata": {},
   "outputs": [
    {
     "name": "stderr",
     "output_type": "stream",
     "text": [
      "C:\\Users\\sbeep\\AppData\\Local\\Temp\\ipykernel_23472\\402948871.py:1: FutureWarning: The default of observed=False is deprecated and will be changed to True in a future version of pandas. Pass observed=False to retain current behavior or observed=True to adopt the future default and silence this warning.\n",
      "  grouped = df.groupby('나이구간')['정제된_점수'].agg(['count', 'mean', 'std']).round(2)\n"
     ]
    },
    {
     "data": {
      "text/html": [
       "<div>\n",
       "<style scoped>\n",
       "    .dataframe tbody tr th:only-of-type {\n",
       "        vertical-align: middle;\n",
       "    }\n",
       "\n",
       "    .dataframe tbody tr th {\n",
       "        vertical-align: top;\n",
       "    }\n",
       "\n",
       "    .dataframe thead th {\n",
       "        text-align: right;\n",
       "    }\n",
       "</style>\n",
       "<table border=\"1\" class=\"dataframe\">\n",
       "  <thead>\n",
       "    <tr style=\"text-align: right;\">\n",
       "      <th></th>\n",
       "      <th>count</th>\n",
       "      <th>mean</th>\n",
       "      <th>std</th>\n",
       "    </tr>\n",
       "    <tr>\n",
       "      <th>나이구간</th>\n",
       "      <th></th>\n",
       "      <th></th>\n",
       "      <th></th>\n",
       "    </tr>\n",
       "  </thead>\n",
       "  <tbody>\n",
       "    <tr>\n",
       "      <th>10대 중반 이하</th>\n",
       "      <td>10</td>\n",
       "      <td>75.40</td>\n",
       "      <td>12.24</td>\n",
       "    </tr>\n",
       "    <tr>\n",
       "      <th>10대 후반</th>\n",
       "      <td>41</td>\n",
       "      <td>80.56</td>\n",
       "      <td>14.35</td>\n",
       "    </tr>\n",
       "    <tr>\n",
       "      <th>20대 초반</th>\n",
       "      <td>44</td>\n",
       "      <td>73.39</td>\n",
       "      <td>15.67</td>\n",
       "    </tr>\n",
       "    <tr>\n",
       "      <th>20대 후반</th>\n",
       "      <td>7</td>\n",
       "      <td>80.29</td>\n",
       "      <td>12.71</td>\n",
       "    </tr>\n",
       "    <tr>\n",
       "      <th>30대 이상</th>\n",
       "      <td>4</td>\n",
       "      <td>72.75</td>\n",
       "      <td>15.71</td>\n",
       "    </tr>\n",
       "  </tbody>\n",
       "</table>\n",
       "</div>"
      ],
      "text/plain": [
       "           count   mean    std\n",
       "나이구간                          \n",
       "10대 중반 이하     10  75.40  12.24\n",
       "10대 후반        41  80.56  14.35\n",
       "20대 초반        44  73.39  15.67\n",
       "20대 후반         7  80.29  12.71\n",
       "30대 이상         4  72.75  15.71"
      ]
     },
     "execution_count": 12,
     "metadata": {},
     "output_type": "execute_result"
    }
   ],
   "source": [
    "grouped = df.groupby('나이구간')['정제된_점수'].agg(['count', 'mean', 'std']).round(2)\n",
    "grouped"
   ]
  },
  {
   "cell_type": "markdown",
   "id": "73116719",
   "metadata": {},
   "source": [
    "### 평균 점수 막대 그래프"
   ]
  },
  {
   "cell_type": "code",
   "execution_count": 13,
   "id": "078b6289",
   "metadata": {},
   "outputs": [
    {
     "name": "stderr",
     "output_type": "stream",
     "text": [
      "C:\\Users\\sbeep\\AppData\\Local\\Temp\\ipykernel_23472\\888346118.py:4: FutureWarning: \n",
      "\n",
      "The `ci` parameter is deprecated. Use `errorbar='sd'` for the same effect.\n",
      "\n",
      "  sns.barplot(\n",
      "C:\\Users\\sbeep\\AppData\\Local\\Temp\\ipykernel_23472\\888346118.py:4: FutureWarning: \n",
      "\n",
      "Passing `palette` without assigning `hue` is deprecated and will be removed in v0.14.0. Assign the `x` variable to `hue` and set `legend=False` for the same effect.\n",
      "\n",
      "  sns.barplot(\n"
     ]
    },
    {
     "data": {
      "image/png": "[encoded data removed]",
      "text/plain": [
       "<Figure size 800x500 with 1 Axes>"
      ]
     },
     "metadata": {},
     "output_type": "display_data"
    }
   ],
   "source": [
    "plt.rcParams['font.family'] = 'Malgun Gothic'\n",
    "\n",
    "plt.figure(figsize=(8, 5))\n",
    "sns.barplot(\n",
    "    x='나이구간',\n",
    "    y='정제된_점수',\n",
    "    data=df,\n",
    "    ci='sd',\n",
    "    palette='Blues_d'\n",
    ")\n",
    "plt.title('나이 구간별 평균 점수 (±표준편차)')\n",
    "plt.xlabel('나이구간')\n",
    "plt.ylabel('정제된 점수')\n",
    "plt.ylim(0, 100)\n",
    "plt.grid(True)\n",
    "plt.tight_layout()\n",
    "plt.show()"
   ]
  },
  {
   "cell_type": "markdown",
   "id": "6236e180",
   "metadata": {},
   "source": [
    "### 박스플롯으로 분포 확인"
   ]
  },
  {
   "cell_type": "code",
   "execution_count": 14,
   "id": "ce1a281f",
   "metadata": {},
   "outputs": [
    {
     "name": "stderr",
     "output_type": "stream",
     "text": [
      "C:\\Users\\sbeep\\AppData\\Local\\Temp\\ipykernel_23472\\3504261980.py:2: FutureWarning: \n",
      "\n",
      "Passing `palette` without assigning `hue` is deprecated and will be removed in v0.14.0. Assign the `x` variable to `hue` and set `legend=False` for the same effect.\n",
      "\n",
      "  sns.boxplot(\n"
     ]
    },
    {
     "data": {
      "image/png": "[encoded data removed]",
      "text/plain": [
       "<Figure size 800x500 with 1 Axes>"
      ]
     },
     "metadata": {},
     "output_type": "display_data"
    }
   ],
   "source": [
    "plt.figure(figsize=(8, 5))\n",
    "sns.boxplot(\n",
    "    x='나이구간',\n",
    "    y='정제된_점수',\n",
    "    data=df,\n",
    "    palette='Pastel1'\n",
    ")\n",
    "plt.title('나이구간별 점수 분포 (Boxplot)')\n",
    "plt.xlabel('나이구간')\n",
    "plt.ylabel('정제된 점수')\n",
    "plt.grid(True)\n",
    "plt.tight_layout()\n",
    "plt.show()"
   ]
  },
  {
   "cell_type": "markdown",
   "id": "c1a4523c",
   "metadata": {},
   "source": [
    "### 결과 해석\n",
    "\n",
    "1. 전체적인 평균 점수 수준\n",
    "   * 평균 점수가 가장 높은 연령 구간은 **10대 후반 (80.56점)**, 그 다음은 **20대 후반 (80.29점)** 이다.\n",
    "   * 가장 낮은 구간은 **30대 이상 (72.75점)**으로, 전체 평균에서 다소 낮은 편이다.\n",
    "2. 표준편차 및 데이터 수 주의\n",
    "   * 표준편차는 전반적으로 **12~15점 수준**이며, 20대 초반이 **15.67점**으로 가장 크다.\n",
    "   **→ 그룹 내 편차 큼**\n",
    "   * **30대 이상은 표본 수가 4명**에 불과하여 평균 해석에 주의가 필요하다.\n",
    "3. Boxplot 기반 분포 해석\n",
    "   * **10대 후반, 20대 후반은 상대적으로 고득점차(90점 이상)** 가 많고, **하위 점수도 분산이 덜함**\n",
    "   * **20대 초반은 분포 폭이 넓고, 중아값도 낮음** → 그룹 내 성취도 차이가 큼\n",
    "   * **30대 이상은 중앙값이 낮고 하위 점수도 존재** → 전반적인 성과가 낮을 가능성\n",
    "4. 최종 결론\n",
    "   * 나이 구간에 따라 평균 점수에 **차이가 존재하며**, 특히**10대 후반과 20대 후반은 비교적 높은 성과를 보임**\n",
    "   * **20대 초반은 분포가 넓어 이질적인 하위 집단이 포함된 가능성**이 있음\n",
    "   * **샘플 수가 적은 30대 이상, 20대 후반 구간은 신중히 해석해야 함**"
   ]
  }
 ],
 "metadata": {
  "kernelspec": {
   "display_name": "da-messy-score-lab",
   "language": "python",
   "name": "python3"
  },
  "language_info": {
   "codemirror_mode": {
    "name": "ipython",
    "version": 3
   },
   "file_extension": ".py",
   "mimetype": "text/x-python",
   "name": "python",
   "nbconvert_exporter": "python",
   "pygments_lexer": "ipython3",
   "version": "3.11.13"
  }
 },
 "nbformat": 4,
 "nbformat_minor": 5
}
