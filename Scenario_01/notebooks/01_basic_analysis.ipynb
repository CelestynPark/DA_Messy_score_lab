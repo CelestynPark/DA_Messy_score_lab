{
 "cells": [
  {
   "cell_type": "code",
   "execution_count": 1,
   "id": "ea71469e",
   "metadata": {},
   "outputs": [
    {
     "name": "stdout",
     "output_type": "stream",
     "text": [
      "[비고 컬럼 고유값 Top 30]\n",
      "          표현   빈도\n",
      "0        NaN  173\n",
      "1    re-take   62\n",
      "2     retake   58\n",
      "3  note: 재응시   56\n",
      "4         없음   53\n",
      "5          .   50\n",
      "6     Retook   48\n"
     ]
    }
   ],
   "source": [
    "import sys\n",
    "sys.path.append(\"../src2\")\n",
    "\n",
    "from step01_explore_note_column import explore_note_column\n",
    "\n",
    "note_counts_df = explore_note_column(\"../raw/messy_student_scores_500.csv\", top_n=30)"
   ]
  },
  {
   "cell_type": "code",
   "execution_count": 2,
   "id": "043f4ec1",
   "metadata": {},
   "outputs": [
    {
     "name": "stdout",
     "output_type": "stream",
     "text": [
      "재응시여부\n",
      "N    276\n",
      "Y    224\n",
      "Name: count, dtype: int64\n"
     ]
    }
   ],
   "source": [
    "import sys\n",
    "sys.path.append(\"../src2\")\n",
    "\n",
    "from step02_define_retake_logic import add_retake_column\n",
    "\n",
    "df = add_retake_column(\"../raw/messy_student_scores_500.csv\", \"../data/messy_student_scores_500_with_retake.csv\")\n",
    "\n",
    "print(df[\"재응시여부\"].value_counts())"
   ]
  },
  {
   "cell_type": "code",
   "execution_count": 4,
   "id": "d73a9e10",
   "metadata": {},
   "outputs": [
    {
     "name": "stdout",
     "output_type": "stream",
     "text": [
      "[재응시여부 분포]\n",
      "  재응시여부  인원수  비율(%)\n",
      "0     N  276   55.2\n",
      "1     Y  224   44.8\n"
     ]
    }
   ],
   "source": [
    "import sys\n",
    "sys.path.append(\"../src2\")\n",
    "\n",
    "from step04_apply_and_summarize import apply_retake_classification\n",
    "\n",
    "df_result = apply_retake_classification(\n",
    "    csv_path=\"../raw/messy_student_scores_500.csv\",\n",
    "    save_path=\"../data/with_retake_column.csv\"\n",
    ")"
   ]
  }
 ],
 "metadata": {
  "kernelspec": {
   "display_name": "da-messy-score-lab",
   "language": "python",
   "name": "python3"
  },
  "language_info": {
   "codemirror_mode": {
    "name": "ipython",
    "version": 3
   },
   "file_extension": ".py",
   "mimetype": "text/x-python",
   "name": "python",
   "nbconvert_exporter": "python",
   "pygments_lexer": "ipython3",
   "version": "3.11.13"
  }
 },
 "nbformat": 4,
 "nbformat_minor": 5
}
